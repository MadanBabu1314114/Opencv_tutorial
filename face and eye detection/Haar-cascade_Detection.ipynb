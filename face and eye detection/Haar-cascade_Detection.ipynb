{
 "cells": [
  {
   "cell_type": "code",
   "execution_count": 9,
   "id": "c99b2691-9809-42ec-ba76-bcd8f01220ca",
   "metadata": {},
   "outputs": [],
   "source": [
    "import cv2 as cv\n",
    "import numpy as np\n",
    "import sys\n",
    "import argparse\n"
   ]
  },
  {
   "cell_type": "code",
   "execution_count": 11,
   "id": "f438d0a3-12f3-40ac-9917-9ef97cc6af04",
   "metadata": {},
   "outputs": [
    {
     "data": {
      "text/plain": [
       "_StoreAction(option_strings=['--eye_cascade'], dest='eye_cascade', nargs=None, const=None, default='haarcascade_eye.xml', type=None, choices=None, required=False, help='path of the eye detection model', metavar=None)"
      ]
     },
     "execution_count": 11,
     "metadata": {},
     "output_type": "execute_result"
    }
   ],
   "source": [
    "parser = argparse.ArgumentParser(description=\"Here the face and eye detection \")\n",
    "parser.add_argument(\"--face_cascade\" , help='path of the face detection model'  , default=\"haarcascade_frontalface_alt.xml\")\n",
    "parser.add_argument(\"--eye_cascade\" , help='path of the eye detection model'  , default=\"haarcascade_eye.xml\")\n",
    " "
   ]
  },
  {
   "cell_type": "code",
   "execution_count": 13,
   "id": "9265c2d6-92c5-4690-ac06-fa65314564f6",
   "metadata": {},
   "outputs": [
    {
     "name": "stderr",
     "output_type": "stream",
     "text": [
      "usage: ipykernel_launcher.py [-h] [--face_cascade FACE_CASCADE] [--eye_cascade EYE_CASCADE]\n",
      "ipykernel_launcher.py: error: unrecognized arguments: -f C:\\Users\\gaddi\\AppData\\Roaming\\jupyter\\runtime\\kernel-40f21bce-54e2-48fe-a0c1-c0f82b5a43c7.json\n"
     ]
    },
    {
     "ename": "SystemExit",
     "evalue": "2",
     "output_type": "error",
     "traceback": [
      "An exception has occurred, use %tb to see the full traceback.\n",
      "\u001b[1;31mSystemExit\u001b[0m\u001b[1;31m:\u001b[0m 2\n"
     ]
    }
   ],
   "source": [
    "args = vars(parser.parse_args())"
   ]
  },
  {
   "cell_type": "code",
   "execution_count": null,
   "id": "b5a8ba32-f2ff-43c2-b4c7-e196ef994e39",
   "metadata": {},
   "outputs": [],
   "source": []
  }
 ],
 "metadata": {
  "kernelspec": {
   "display_name": "Python 3 (ipykernel)",
   "language": "python",
   "name": "python3"
  },
  "language_info": {
   "codemirror_mode": {
    "name": "ipython",
    "version": 3
   },
   "file_extension": ".py",
   "mimetype": "text/x-python",
   "name": "python",
   "nbconvert_exporter": "python",
   "pygments_lexer": "ipython3",
   "version": "3.10.10"
  }
 },
 "nbformat": 4,
 "nbformat_minor": 5
}
