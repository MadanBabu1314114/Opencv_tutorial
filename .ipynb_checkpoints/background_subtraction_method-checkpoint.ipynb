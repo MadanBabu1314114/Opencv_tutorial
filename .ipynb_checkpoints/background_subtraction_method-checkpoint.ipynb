{
 "cells": [
  {
   "cell_type": "code",
   "execution_count": 1,
   "id": "114164ca-4e59-4cb1-9f68-ba64f6b72dd5",
   "metadata": {},
   "outputs": [],
   "source": [
    "import cv2 as cv\n",
    "import numpy as np\n",
    "import sys"
   ]
  },
  {
   "cell_type": "code",
   "execution_count": 3,
   "id": "0c49deaa-2d20-487d-84fc-84c49f30e29d",
   "metadata": {},
   "outputs": [],
   "source": [
    "cap = cv.VideoCapture(0)\n",
    "if not cap.isOpened:\n",
    "    print(\"NOt OPening the video\")\n",
    "    sys.exit(0)\n",
    "\n",
    "back  = cv.createBackgroundSubtractorKNN()"
   ]
  },
  {
   "cell_type": "code",
   "execution_count": 4,
   "id": "7f46f54a-c6de-4626-97b8-9c950cdc611c",
   "metadata": {},
   "outputs": [],
   "source": [
    "while (1):    \n",
    "    ret , frame = cap.read()\n",
    "    fgdmask = back.apply(frame)\n",
    "    if not ret :\n",
    "        print(\"frame is not avaliable\")\n",
    "    cv.imshow(\"Original Video\" , frame)\n",
    "    cv.imshow(\"Back subtraction video\" , fgdmask)\n",
    "    if cv.waitKey(1) & 0xFF == ord('s'):\n",
    "        break\n",
    "\n",
    "cv.destroyAllWindows()"
   ]
  },
  {
   "cell_type": "code",
   "execution_count": null,
   "id": "de7e6305-26f7-4d76-8539-6f458f0f4c15",
   "metadata": {},
   "outputs": [],
   "source": [
    "\n"
   ]
  }
 ],
 "metadata": {
  "kernelspec": {
   "display_name": "Python 3 (ipykernel)",
   "language": "python",
   "name": "python3"
  },
  "language_info": {
   "codemirror_mode": {
    "name": "ipython",
    "version": 3
   },
   "file_extension": ".py",
   "mimetype": "text/x-python",
   "name": "python",
   "nbconvert_exporter": "python",
   "pygments_lexer": "ipython3",
   "version": "3.10.10"
  }
 },
 "nbformat": 4,
 "nbformat_minor": 5
}
