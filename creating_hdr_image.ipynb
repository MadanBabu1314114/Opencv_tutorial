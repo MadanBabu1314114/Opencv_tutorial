{
 "cells": [
  {
   "cell_type": "code",
   "execution_count": 17,
   "id": "fd2297d1-c33b-43ee-93cd-e3be71d696dd",
   "metadata": {},
   "outputs": [],
   "source": [
    "import cv2 as cv\n",
    "import numpy  as np\n",
    "import sys\n"
   ]
  },
  {
   "cell_type": "code",
   "execution_count": 19,
   "id": "7a474bec-a426-4f21-a8f6-9b2afb603b3f",
   "metadata": {},
   "outputs": [],
   "source": [
    "images = [cv.imread(\"normal_images/memorial00.png\"),cv.imread(\"normal_images/memorial01.png\"),\n",
    "cv.imread(\"normal_images/memorial02.png\"),\n",
    "cv.imread(\"normal_images/memorial03.png\"),\n",
    "cv.imread(\"normal_images/memorial04.png\"),\n",
    "cv.imread(\"normal_images/memorial05.png\"),\n",
    "cv.imread(\"normal_images/memorial06.png\"),\n",
    "         ]\n",
    "times = np.asarray([0.03125 ,0.0625,0.125,0.25,0.5,1,2],np.float32)"
   ]
  },
  {
   "cell_type": "code",
   "execution_count": 20,
   "id": "235f3289-adfb-4408-b76f-aba427924cf6",
   "metadata": {},
   "outputs": [],
   "source": [
    "#Here Estimate the camera response\n",
    "calibrate = cv.createCalibrateDebevec()\n",
    "response = calibrate.process(images , times)"
   ]
  },
  {
   "cell_type": "code",
   "execution_count": 21,
   "id": "a2c5c955-472d-4d3a-853e-99b2b23e089b",
   "metadata": {},
   "outputs": [],
   "source": [
    "#Here make HDR image\n",
    "merge_devec = cv.createMergeDebevec()\n",
    "hdr = merge_devec.process(images , times , response)"
   ]
  },
  {
   "cell_type": "code",
   "execution_count": 22,
   "id": "ee247c6e-b7e8-4a65-8f2b-bf403d4297b3",
   "metadata": {},
   "outputs": [],
   "source": [
    "#Here create the tone map and create tone the image\n",
    "tonemap = cv.createTonemap()\n",
    "ldr = tonemap.process(hdr)"
   ]
  },
  {
   "cell_type": "code",
   "execution_count": 23,
   "id": "6b699086-6652-4098-a225-66da1edb9026",
   "metadata": {},
   "outputs": [],
   "source": [
    "#Perform expension fusion\n",
    "merge_mertens = cv.createMergeMertens()\n",
    "fusion = merge_mertens.process(images)"
   ]
  },
  {
   "cell_type": "code",
   "execution_count": 24,
   "id": "8e21ddeb-69ef-45d7-93a2-9a394d7f07f5",
   "metadata": {},
   "outputs": [
    {
     "data": {
      "text/plain": [
       "True"
      ]
     },
     "execution_count": 24,
     "metadata": {},
     "output_type": "execute_result"
    }
   ],
   "source": [
    "#write the files in the hdr folder\n",
    "cv.imwrite('hdr/fusion.png', fusion * 255)\n",
    "cv.imwrite('hdr/ldr.png', ldr * 255)\n",
    "cv.imwrite('hdr/hdr.hdr', hdr)"
   ]
  },
  {
   "cell_type": "code",
   "execution_count": null,
   "id": "aaa43150-7eef-4c34-bf01-1bf3132693b0",
   "metadata": {},
   "outputs": [],
   "source": []
  }
 ],
 "metadata": {
  "kernelspec": {
   "display_name": "Python 3 (ipykernel)",
   "language": "python",
   "name": "python3"
  },
  "language_info": {
   "codemirror_mode": {
    "name": "ipython",
    "version": 3
   },
   "file_extension": ".py",
   "mimetype": "text/x-python",
   "name": "python",
   "nbconvert_exporter": "python",
   "pygments_lexer": "ipython3",
   "version": "3.10.10"
  }
 },
 "nbformat": 4,
 "nbformat_minor": 5
}
